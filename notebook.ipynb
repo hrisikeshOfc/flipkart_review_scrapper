{
 "cells": [
  {
   "cell_type": "code",
   "execution_count": 2,
   "metadata": {},
   "outputs": [],
   "source": [
    "from scraper.data_access.data_access import Database\n"
   ]
  },
  {
   "cell_type": "code",
   "execution_count": 3,
   "metadata": {},
   "outputs": [],
   "source": [
    "database = Database()\n"
   ]
  },
  {
   "cell_type": "code",
   "execution_count": 5,
   "metadata": {},
   "outputs": [],
   "source": [
    "reviews = database.get_collection(\"iphone\")"
   ]
  },
  {
   "cell_type": "code",
   "execution_count": 22,
   "metadata": {},
   "outputs": [
    {
     "data": {
      "text/plain": [
       "[{'Product_name': 'iphone',\n",
       "  'Name': 'Mahim Chauhan',\n",
       "  'Rating': '5',\n",
       "  'CommentHead': 'Brilliant',\n",
       "  'Comment': 'I switch to ios from android after 10 years so this review might help for migratorsIt’s been a month using the iPhone13 and this was my experience1. Design - its simple and no nonsense design . Expect white and pink rest of the colours are fingerprint magnets.  I have seen all the colours and I highly recommend the pink . It’s so light pink which makes it not girlish. See it for yourself it really looks so premium in light pink colour. For rest of it except white the aluminium frame wil...'},\n",
       " {'Product_name': 'iphone',\n",
       "  'Name': 'Vaibhav  Raj',\n",
       "  'Rating': '5',\n",
       "  'CommentHead': 'Fabulous!',\n",
       "  'Comment': \"Amazing beast....As expected , didn't disappoint me,Had to sell hard chunk of kidneys to get it !!;pCamera quality is definitely a super upgradeBattery is super.. easily last throughout the day with heavy usage.Light weight looks stylish what else you need??Starlight color just wow!!!Apple it would have been better if you should  have given an adaptor. Increase 2k price and give it in box!!!Simple ....Edit 1 : After 14 days of usage highly satisfied with battery performance, Last thr...\"},\n",
       " {'Product_name': 'iphone',\n",
       "  'Name': 'Flipkart Customer',\n",
       "  'Rating': '5',\n",
       "  'CommentHead': 'Perfect product!',\n",
       "  'Comment': 'Awesome camera Amazing battery life Super xdr display is 💕👌🏻Playing games and day to day task are smooth Face ID is superbiOS 15 is really awesome 🤩 thanks to Apple'},\n",
       " {'Product_name': 'iphone',\n",
       "  'Name': 'Vishal Dubey',\n",
       "  'Rating': '5',\n",
       "  'CommentHead': 'Must buy!',\n",
       "  'Comment': 'Just upgraded from 11 to iPhone 13 ..cinematic mode video awesome camera awesome display awesome Looks A1 battery life is also good.New filter mode in camera added'},\n",
       " {'Product_name': 'iphone',\n",
       "  'Name': 'Pabitra Biswas',\n",
       "  'Rating': '5',\n",
       "  'CommentHead': 'Worth every penny',\n",
       "  'Comment': 'Day 2 Review: Display shows great color. Performance was consistent since day one. All the small things you need to make a good phone is here.'},\n",
       " {'Product_name': 'iphone',\n",
       "  'Name': 'Satwinder  Singh',\n",
       "  'Rating': '5',\n",
       "  'CommentHead': 'Brilliant',\n",
       "  'Comment': 'Very impressed with this order.. i phone 13 best in class , awsm camera quality, fastest in speed,Very happy with my product'},\n",
       " {'Product_name': 'iphone',\n",
       "  'Name': 'Nithesh Nayak',\n",
       "  'Rating': '5',\n",
       "  'CommentHead': 'Must buy!',\n",
       "  'Comment': 'That was quick delivery by FLIPKART.Box is so compact and light weight, for a moment I had doubt whether box has Mobile or not. Product Red iPhone 13 is actually RED this time. Feels comfortable when you hold in hand. Feels light and more like big brother of iPhone 5s.Selfie camera is great and battery seems better than iphone 12'},\n",
       " {'Product_name': 'iphone',\n",
       "  'Name': 'Jithu Gopal',\n",
       "  'Rating': '5',\n",
       "  'CommentHead': 'Just wow!',\n",
       "  'Comment': 'Got it in 2 days.so happy with the phone.starlight white is classy n suberb. That premium look is exquisite.Flawless ui... better battery backup.I am satisfied with the purchase.There is no phone like an iPhone :)'},\n",
       " {'Product_name': 'iphone',\n",
       "  'Name': 'ritu mishra',\n",
       "  'Rating': '5',\n",
       "  'CommentHead': 'Terrific purchase',\n",
       "  'Comment': \"It's  just mind-blowing  I have switched from Android to iOS it feels fantastic. The  alluring effect and  the fascinated color it's top notch. I was hesitating to buy online but one can completely rely on. Special thanks to ekart and flipkart to deliver only in 2days delivery is quick  and trustworthy.\"},\n",
       " {'Product_name': 'iphone',\n",
       "  'Name': 'Amit Kumar',\n",
       "  'Rating': '5',\n",
       "  'CommentHead': 'Awesome',\n",
       "  'Comment': 'Just shifted from Android to iOS .. The new iphone 13 is a great phone with a lot of improvements. It has the best camera on the market..it works good in low light, the software is much improved, and the battery life is long lasting.'},\n",
       " {'Product_name': 'iphone',\n",
       "  'Name': 'No Name',\n",
       "  'Rating': 'No Rating',\n",
       "  'CommentHead': 'No Comment Heading',\n",
       "  'Comment': 'No comment'}]"
      ]
     },
     "execution_count": 22,
     "metadata": {},
     "output_type": "execute_result"
    }
   ],
   "source": [
    "reviews[0][\"APPLE iPhone 13 (Midnight, 128 GB)\"]"
   ]
  },
  {
   "cell_type": "code",
   "execution_count": null,
   "metadata": {},
   "outputs": [],
   "source": []
  }
 ],
 "metadata": {
  "kernelspec": {
   "display_name": "Python 3",
   "language": "python",
   "name": "python3"
  },
  "language_info": {
   "codemirror_mode": {
    "name": "ipython",
    "version": 3
   },
   "file_extension": ".py",
   "mimetype": "text/x-python",
   "name": "python",
   "nbconvert_exporter": "python",
   "pygments_lexer": "ipython3",
   "version": "3.8.17"
  },
  "orig_nbformat": 4
 },
 "nbformat": 4,
 "nbformat_minor": 2
}
